{
 "cells": [
  {
   "cell_type": "markdown",
   "metadata": {},
   "source": [
    "# Project 01 - The game \"Knack\"\n"
   ]
  },
  {
   "cell_type": "markdown",
   "metadata": {},
   "source": [
    "Knack (start with 2 players/ dealer and one player)\n",
    "\n",
    "\n",
    "Functions:\n",
    "\n",
    "- Pack in the middle is shown \n",
    "- Choose action (swap 1, swap 3, shove, close) \n",
    "- Swap 1\n",
    "- Swap 3\n",
    "- Shove\n",
    "- Close\n",
    "\n",
    "- Counting at the end\n",
    "- Showing scores \n",
    "- Showing winner \n",
    "\n",
    "- End of game condition ?"
   ]
  },
  {
   "cell_type": "code",
   "execution_count": 33,
   "metadata": {},
   "outputs": [],
   "source": [
    "import random\n",
    "from IPython.display import clear_output\n",
    "from collections import Counter \n",
    "\n",
    "\n",
    "#deck = []\n",
    "#scoring = {\"Ace\": 11, \"King\": 10, \"Queen\": 10, \"Jack\": 10, 10 : 10, 9: 9, 8\n",
    "#          :8, 7:7}\n",
    "#suits = [\"Hearts\", \"Diamonds\", \"Clubs\", \"Spaids\"]\n",
    "#game class with functions ???   \n",
    "\n",
    "class Knack():    #game class\n",
    "    def __init__(self):\n",
    "        self.deck = []\n",
    "        self.suits = [\"Hearts\", \"Diamonds\", \"Clubs\", \"Spaids\"]\n",
    "        self.scoring = {\"Ace\": 11, \"King\": 10, \"Queen\": 10, \"Jack\": 10, 10 : 10, 9: 9, 8\n",
    "          :8, 7:7}\n",
    "        self.pack_middle = [] \n",
    "  \n",
    "    def makeDeck(self):   #method for creating the deck\n",
    "        for suit in self.suits:\n",
    "            for key in self.scoring.keys():\n",
    "                self.deck.append({'color':suit, 'value' : key} )\n",
    "    \n",
    "    def showMiddle(self):   #method that shows which cards are in the middle \n",
    "        print(\"These cards are in the middle: \\n\")\n",
    "        print(self.pack_middle)\n",
    "        \n",
    "    def takeCard_middle(self, card):\n",
    "        self.pack_middle.append(card)\n",
    "\n",
    "\n",
    "#creating class and two instances of the class (player and dealer)\n",
    "class players:\n",
    "    def __init__(self, name, is_dealer):\n",
    "        self.name = name \n",
    "        self.is_dealer = is_dealer\n",
    "        self.hand = []\n",
    "        self.score = {}\n",
    "        \n",
    "        \n",
    "    def deal_players_pack(name):\n",
    "        pack = random.sample(game.deck, 3)\n",
    "        player1.hand = pack\n",
    "        \n",
    "    def deal_dealers_packs(name):\n",
    "        pack1 = random.sample(game.deck, 3)\n",
    "        pack2 = random.sample(game.deck, 3)\n",
    "        dealer.hand = pack1\n",
    "        game.pack_middle = pack2\n",
    "        \n",
    "    def giveCard(self):        #method \n",
    "        card = input(\"Which card would you like to swap? (Choose no. 1, 2 or 3) \")\n",
    "        if card != \"quit\":\n",
    "            return self.hand.pop(int(card))\n",
    "        else:\n",
    "            pass\n",
    "        \n",
    "    def chooseCard(self, card):\n",
    "        card = input(\"Which card would you choose from the middle? (Choose no. 1, 2 or 3) \")\n",
    "        if card != \"quit\":\n",
    "            return game.pack_middle.pop(int(card))\n",
    "        else:\n",
    "            pass\n",
    "    \n",
    "    def takeCard_hand(self, card):\n",
    "        self.hand.append(card)\n",
    "    \n",
    "        \n",
    "    def values_for_score(self):\n",
    "        colors = []\n",
    "        cards_values = []\n",
    "        count = 0\n",
    "        counter = 0\n",
    "        for card in self.hand:      # finding the most common suit on the hand \n",
    "            colors.append(card['color'])\n",
    "            occurencies = Counter(colors)  #storing suits with occurencies \n",
    "            for key, value in occurencies.items():\n",
    "                        if value >= 2:\n",
    "                            for x in self.hand:\n",
    "                                if x['color'] == key:\n",
    "                                    countable_cards = []\n",
    "                                    countable_cards.append(x['value'])\n",
    "                                    for item in countable_cards:\n",
    "                                        count += game.scoring[item]\n",
    "                                        return count      \n",
    "                        else:\n",
    "                            for x in self.hand:\n",
    "                                countable_cards = []\n",
    "                                countable_cards.append(x['value'])\n",
    "                                for item in countable_cards:\n",
    "                                    if item == 'Ace':\n",
    "                                        return 11\n",
    "                                    else:\n",
    "                                        cards_values.append(game.scoring[item])\n",
    "                                        count = max(cards_values)\n",
    "                                        return count\n",
    "\n",
    "        \n",
    "player1 = players(\"Player1\", is_dealer = False)\n",
    "dealer = players(\"Dealer\", is_dealer = True)\n",
    "\n",
    "game = Knack()\n",
    "\n",
    "game.makeDeck()\n",
    "#print(deck)\n",
    "\n",
    "#dealing pack to player1 \n",
    "dealer.deal_players_pack()\n",
    "\n",
    "#dealing one pack to the dealer and one to the middle\n",
    "dealer.deal_dealers_packs()\n"
   ]
  },
  {
   "cell_type": "code",
   "execution_count": 34,
   "metadata": {},
   "outputs": [
    {
     "data": {
      "text/plain": [
       "[{'color': 'Spaids', 'value': 7},\n",
       " {'color': 'Diamonds', 'value': 'King'},\n",
       " {'color': 'Diamonds', 'value': 'Jack'}]"
      ]
     },
     "execution_count": 34,
     "metadata": {},
     "output_type": "execute_result"
    }
   ],
   "source": [
    "player1.hand"
   ]
  },
  {
   "cell_type": "code",
   "execution_count": 35,
   "metadata": {},
   "outputs": [
    {
     "data": {
      "text/plain": [
       "[{'color': 'Spaids', 'value': 'Ace'},\n",
       " {'color': 'Hearts', 'value': 'King'},\n",
       " {'color': 'Diamonds', 'value': 9}]"
      ]
     },
     "execution_count": 35,
     "metadata": {},
     "output_type": "execute_result"
    }
   ],
   "source": [
    "dealer.hand"
   ]
  },
  {
   "cell_type": "code",
   "execution_count": 36,
   "metadata": {},
   "outputs": [
    {
     "data": {
      "text/plain": [
       "7"
      ]
     },
     "execution_count": 36,
     "metadata": {},
     "output_type": "execute_result"
    }
   ],
   "source": [
    "player1.values_for_score()"
   ]
  },
  {
   "cell_type": "code",
   "execution_count": 37,
   "metadata": {},
   "outputs": [
    {
     "data": {
      "text/plain": [
       "11"
      ]
     },
     "execution_count": 37,
     "metadata": {},
     "output_type": "execute_result"
    }
   ],
   "source": [
    "dealer.values_for_score()"
   ]
  },
  {
   "cell_type": "code",
   "execution_count": 38,
   "metadata": {},
   "outputs": [
    {
     "ename": "IndentationError",
     "evalue": "unexpected indent (<ipython-input-38-0b994a006f16>, line 2)",
     "output_type": "error",
     "traceback": [
      "\u001b[0;36m  File \u001b[0;32m\"<ipython-input-38-0b994a006f16>\"\u001b[0;36m, line \u001b[0;32m2\u001b[0m\n\u001b[0;31m    colors = []\u001b[0m\n\u001b[0m    ^\u001b[0m\n\u001b[0;31mIndentationError\u001b[0m\u001b[0;31m:\u001b[0m unexpected indent\n"
     ]
    }
   ],
   "source": [
    "#def values_for_score():\n",
    "    colors = []\n",
    "    countable_cards = []\n",
    "    cards_values = []\n",
    "    count = 0\n",
    "    counter = 0\n",
    "    for card in player1.hand:      # finding the most common suit on the hand \n",
    "        colors.append(card['color'])\n",
    "        occurencies = Counter(colors)  #storing suits with occurencies \n",
    "        for key, value in occurencies.items():\n",
    "            if value >= 2:\n",
    "                for x in player1.hand:\n",
    "                    if x['color'] == key:\n",
    "                        countable_cards.append(x['value'])\n",
    "                        for item in countable_cards:\n",
    "                            count += game.scoring[item]\n",
    "                    return count      \n",
    "            else:\n",
    "                for x in player1.hand:\n",
    "                    countable_cards.append(x['value'])\n",
    "                    for item in countable_cards:\n",
    "                        if item == 'Ace':\n",
    "                            return 11\n",
    "                        else:\n",
    "                            cards_values.append(game.scoring[item])\n",
    "                            count = max(cards_values)\n",
    "                            return count\n",
    "                            \n",
    "values_for_score()"
   ]
  },
  {
   "cell_type": "code",
   "execution_count": 42,
   "metadata": {},
   "outputs": [
    {
     "name": "stdout",
     "output_type": "stream",
     "text": [
      "['King']\n",
      "['King', 'Jack']\n",
      "['King', 'Jack']\n"
     ]
    }
   ],
   "source": [
    "colors = []\n",
    "countable_cards = []\n",
    "cards_values = []\n",
    "count = 0\n",
    "counter = 0\n",
    "for card in player1.hand:      # finding the most common suit on the hand \n",
    "    colors.append(card['color'])\n",
    "    occurencies = Counter(colors)  #storing suits with occurencies \n",
    "    for key, value in occurencies.items():\n",
    "        if value >= 2:\n",
    "            for x in player1.hand:\n",
    "                if x['color'] == key:\n",
    "                    countable_cards.append(x['value'])\n",
    "                    for item in countable_cards:\n",
    "                        count += game.scoring[item]\n",
    "                        print(countable_cards)\n",
    "                   \n"
   ]
  },
  {
   "cell_type": "code",
   "execution_count": null,
   "metadata": {},
   "outputs": [],
   "source": [
    " \n",
    "                    print( count)      \n",
    "        else:\n",
    "            for x in player1.hand:\n",
    "                countable_cards.append(x['value'])\n",
    "                for item in countable_cards:\n",
    "                    if item == 'Ace':\n",
    "                        print(11)\n",
    "                    else:\n",
    "                        cards_values.append(game.scoring[item])\n",
    "                        count = max(cards_values)\n",
    "                        print(count)\n",
    "                            "
   ]
  },
  {
   "cell_type": "markdown",
   "metadata": {},
   "source": [
    "#### Fuction to find the cards on hand and calculate the score of each hand \n",
    "\n",
    "-first collecting all suits of the hand in a list colors\n",
    "\n",
    "-count the appearences of each suits\n",
    "\n",
    "-for the suit with 2 or more appearences return the values \n",
    "\n"
   ]
  },
  {
   "cell_type": "markdown",
   "metadata": {},
   "source": [
    "colors = []\n",
    "for card in dealer.hand:\n",
    "    colors.append(card['color'])"
   ]
  },
  {
   "cell_type": "markdown",
   "metadata": {},
   "source": [
    "occurencies = Counter(colors)"
   ]
  },
  {
   "cell_type": "markdown",
   "metadata": {},
   "source": [
    "for key, value in occurencies.items():\n",
    "    if value >= 2:\n",
    "        for x in dealer.hand:\n",
    "            if x['color'] == key:\n",
    "                print(x['value'])"
   ]
  },
  {
   "cell_type": "markdown",
   "metadata": {},
   "source": [
    "# THE FUNCTION\n",
    "\n",
    "def values_for_score(self):\n",
    "    colors = []\n",
    "    for card in self.hand:      # finding the most common suit on the hand \n",
    "        colors.append(card['color'])\n",
    "        occurencies = Counter(colors)     #counting the occurencies\n",
    "        for key, value in occurencies.items():\n",
    "            if value >= 2:\n",
    "                for x in self.hand:\n",
    "                    if x['color'] == key:\n",
    "                        countable_cards = []\n",
    "                        countable_cards.append(x['value'])\n",
    "                        for item in countable_cards:\n",
    "                            count = 0\n",
    "                            count += game.scoring[item]\n",
    "                            return count \n",
    "            else:\n",
    "                for x in self.hand:\n",
    "                    countable_cards = []\n",
    "                    countable_cards.append(x['value'])\n",
    "                    for item in countable_cards:\n",
    "                        if item == 'Ace':\n",
    "                            return 11\n",
    "                        else:\n",
    "                            cards_values = []\n",
    "                            cards_values.append(game.scoring[item])\n",
    "                            count = max(cards_values)\n",
    "                            return count"
   ]
  },
  {
   "cell_type": "markdown",
   "metadata": {},
   "source": [
    "#### Function for swapping a card"
   ]
  },
  {
   "cell_type": "code",
   "execution_count": 11,
   "metadata": {},
   "outputs": [
    {
     "name": "stdout",
     "output_type": "stream",
     "text": [
      "These cards are in the middle: \n",
      "\n",
      "[{'color': 'Diamonds', 'value': 10}, {'color': 'Clubs', 'value': 10}, {'color': 'Diamonds', 'value': 7}]\n"
     ]
    }
   ],
   "source": [
    "game.showMiddle()"
   ]
  },
  {
   "cell_type": "code",
   "execution_count": 12,
   "metadata": {},
   "outputs": [
    {
     "data": {
      "text/plain": [
       "[{'color': 'Clubs', 'value': 7},\n",
       " {'color': 'Clubs', 'value': 10},\n",
       " {'color': 'Hearts', 'value': 9}]"
      ]
     },
     "execution_count": 12,
     "metadata": {},
     "output_type": "execute_result"
    }
   ],
   "source": [
    "player1.hand"
   ]
  },
  {
   "cell_type": "code",
   "execution_count": 16,
   "metadata": {},
   "outputs": [],
   "source": [
    "def swapCard():\n",
    "    card = input(\"Which card would you like to swap? (Choose no. 1, 2 or 3) \")\n",
    "    if card != \"quit\":\n",
    "        return player1.hand.pop(int(card))\n",
    "    else:\n",
    "        pass \n",
    "\n",
    "            "
   ]
  },
  {
   "cell_type": "code",
   "execution_count": 17,
   "metadata": {},
   "outputs": [
    {
     "name": "stdout",
     "output_type": "stream",
     "text": [
      "Which card would you like to swap? (Choose no. 1, 2 or 3) 1\n"
     ]
    },
    {
     "data": {
      "text/plain": [
       "{'color': 'Hearts', 'value': 9}"
      ]
     },
     "execution_count": 17,
     "metadata": {},
     "output_type": "execute_result"
    }
   ],
   "source": [
    "swapCard()"
   ]
  },
  {
   "cell_type": "code",
   "execution_count": 18,
   "metadata": {},
   "outputs": [],
   "source": [
    "def takeCard(card):\n",
    "    game.pack_middle.append(card)"
   ]
  },
  {
   "cell_type": "code",
   "execution_count": 19,
   "metadata": {},
   "outputs": [],
   "source": [
    "takeCard({'color': 'Hearts', 'value': 9})"
   ]
  },
  {
   "cell_type": "code",
   "execution_count": 20,
   "metadata": {},
   "outputs": [
    {
     "name": "stdout",
     "output_type": "stream",
     "text": [
      "These cards are in the middle: \n",
      "\n",
      "[{'color': 'Diamonds', 'value': 10}, {'color': 'Clubs', 'value': 10}, {'color': 'Diamonds', 'value': 7}, {'color': 'Hearts', 'value': 9}]\n"
     ]
    }
   ],
   "source": [
    "game.showMiddle()"
   ]
  },
  {
   "cell_type": "code",
   "execution_count": 23,
   "metadata": {},
   "outputs": [],
   "source": [
    "def chooseCard():\n",
    "    card = input(\"Which card would you choose from the middle? (Choose no. 1, 2 or 3) \")\n",
    "    if card != \"quit\":\n",
    "        return game.pack_middle.pop(int(card))\n",
    "    else:\n",
    "        pass"
   ]
  },
  {
   "cell_type": "code",
   "execution_count": 24,
   "metadata": {},
   "outputs": [
    {
     "name": "stdout",
     "output_type": "stream",
     "text": [
      "Which card would you choose from the middle? (Choose no. 1, 2 or 3) 0\n"
     ]
    },
    {
     "data": {
      "text/plain": [
       "{'color': 'Diamonds', 'value': 10}"
      ]
     },
     "execution_count": 24,
     "metadata": {},
     "output_type": "execute_result"
    }
   ],
   "source": [
    "chooseCard()"
   ]
  },
  {
   "cell_type": "code",
   "execution_count": 25,
   "metadata": {},
   "outputs": [],
   "source": [
    "def takeCard_hand( card):\n",
    "        player1.hand.append(card)"
   ]
  },
  {
   "cell_type": "code",
   "execution_count": 26,
   "metadata": {},
   "outputs": [],
   "source": [
    "takeCard_hand({'color': 'Diamonds', 'value': 10})"
   ]
  },
  {
   "cell_type": "code",
   "execution_count": 28,
   "metadata": {},
   "outputs": [
    {
     "data": {
      "text/plain": [
       "[{'color': 'Clubs', 'value': 7}, {'color': 'Diamonds', 'value': 10}]"
      ]
     },
     "execution_count": 28,
     "metadata": {},
     "output_type": "execute_result"
    }
   ],
   "source": [
    "player1.hand\n",
    "\n"
   ]
  },
  {
   "cell_type": "code",
   "execution_count": 17,
   "metadata": {},
   "outputs": [
    {
     "data": {
      "text/plain": [
       "[{'color': 'Clubs', 'value': 8},\n",
       " {'color': 'Hearts', 'value': 'Jack'},\n",
       " {'color': 'Diamonds', 'value': 10}]"
      ]
     },
     "execution_count": 17,
     "metadata": {},
     "output_type": "execute_result"
    }
   ],
   "source": [
    "dealer.hand"
   ]
  },
  {
   "cell_type": "code",
   "execution_count": null,
   "metadata": {},
   "outputs": [],
   "source": []
  }
 ],
 "metadata": {
  "kernelspec": {
   "display_name": "Python 3",
   "language": "python",
   "name": "python3"
  },
  "language_info": {
   "codemirror_mode": {
    "name": "ipython",
    "version": 3
   },
   "file_extension": ".py",
   "mimetype": "text/x-python",
   "name": "python",
   "nbconvert_exporter": "python",
   "pygments_lexer": "ipython3",
   "version": "3.8.5"
  }
 },
 "nbformat": 4,
 "nbformat_minor": 4
}
