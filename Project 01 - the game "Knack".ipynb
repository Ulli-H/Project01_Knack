{
 "cells": [
  {
   "cell_type": "markdown",
   "metadata": {},
   "source": [
    "# Project 01 - The game \"Knack\"\n"
   ]
  },
  {
   "cell_type": "markdown",
   "metadata": {},
   "source": [
    "Knack (start with 2 players/ dealer and one player)\n",
    "\n",
    "\n",
    "Functions:\n",
    "\n",
    "- Pack in the middle is shown \n",
    "- Choose action (swap 1, swap 3, shove, close) \n",
    "- Swap 1\n",
    "- Swap 3\n",
    "- Shove\n",
    "- Close\n",
    "\n",
    "- Counting at the end\n",
    "- Showing scores \n",
    "- Showing winner \n",
    "\n",
    "- End of game condition ?"
   ]
  },
  {
   "cell_type": "code",
   "execution_count": 15,
   "metadata": {},
   "outputs": [],
   "source": [
    "import random\n",
    "from IPython.display import clear_output\n",
    "from collections import Counter \n",
    "\n",
    "#deck = []\n",
    "#scoring = {\"Ace\": 11, \"King\": 10, \"Queen\": 10, \"Jack\": 10, 10 : 10, 9: 9, 8\n",
    "#          :8, 7:7}\n",
    "#suits = [\"Hearts\", \"Diamonds\", \"Clubs\", \"Spaids\"]\n",
    "\n",
    "#game class with functions ???   \n",
    "\n",
    "class Knack():    #game class\n",
    "    def __init__(self):\n",
    "        self.deck = []\n",
    "        self.suits = [\"Hearts\", \"Diamonds\", \"Clubs\", \"Spaids\"]\n",
    "        self.scoring = {\"Ace\": 11, \"King\": 10, \"Queen\": 10, \"Jack\": 10, 10 : 10, 9: 9, 8\n",
    "          :8, 7:7}\n",
    "        \n",
    "    def makeDeck(self):   #method for creating the deck\n",
    "        for suit in self.suits:\n",
    "            for key in self.scoring.keys():\n",
    "                self.deck.append({'color':suit, 'value' : key} )\n",
    "\n",
    "\n",
    "#creating class and two instances of the class (player and dealer)\n",
    "class players:\n",
    "    def __init__(self, name, is_dealer):\n",
    "        self.name = name \n",
    "        self.is_dealer = is_dealer\n",
    "        self.hand = []\n",
    "        self.score = {}\n",
    "        \n",
    "        \n",
    "    def deal_players_pack(name):\n",
    "        pack = random.sample(game.deck, 3)\n",
    "        player1.hand = pack\n",
    "        \n",
    "    def deal_dealers_packs(name):\n",
    "        pack1 = random.sample(game.deck, 3)\n",
    "        pack2 = random.sample(game.deck, 3)\n",
    "        dealer.hand = pack1\n",
    "        pack_middle = pack2\n",
    "        \n",
    "    def values_for_score(self):\n",
    "        colors = []\n",
    "        for card in self.hand:      # finding the most common suit on the hand \n",
    "            colors.append(card['color'])\n",
    "            occurencies = Counter(colors)     #counting the occurencies\n",
    "            for key, value in occurencies.items():\n",
    "                if value >= 2:\n",
    "                    for x in self.hand:\n",
    "                        if x['color'] == key:\n",
    "                            countable_cards = []\n",
    "                            countable_cards.append(x['value'])\n",
    "                            for item in countable_cards:\n",
    "                                count = 0\n",
    "                                count += game.scoring[item]\n",
    "                                return count \n",
    "                else:\n",
    "                    for x in self.hand:\n",
    "                        countable_cards = []\n",
    "                        countable_cards.append(x['value'])\n",
    "                        for item in countable_cards:\n",
    "                            if item == 'Ace':\n",
    "                                return 11\n",
    "                            else:\n",
    "                                cards_values = []\n",
    "                                cards_values.append(game.scoring[item])\n",
    "                                count = max(cards_values)\n",
    "                                return count\n",
    "                        \n",
    "                             \n",
    "    \n",
    "\n",
    "\n",
    "            \n",
    "\n",
    "        \n",
    "\n",
    "         \n",
    "            \n",
    "def showMiddle():\n",
    "    print(pack_middle)\n",
    "\n",
    "pack_middle = []\n",
    "        \n",
    "player1 = players(\"Player1\", is_dealer = False)\n",
    "dealer = players(\"Dealer\", is_dealer = True)\n",
    "\n",
    "\n"
   ]
  },
  {
   "cell_type": "code",
   "execution_count": 16,
   "metadata": {},
   "outputs": [],
   "source": [
    "game = Knack()\n",
    "\n",
    "game.makeDeck()\n",
    "#print(deck)\n",
    "\n",
    "#dealing pack to player1 \n",
    "dealer.deal_players_pack()\n",
    "\n",
    "#dealing one pack to the dealer and one to the middle\n",
    "dealer.deal_dealers_packs()\n"
   ]
  },
  {
   "cell_type": "code",
   "execution_count": 17,
   "metadata": {},
   "outputs": [
    {
     "data": {
      "text/plain": [
       "[{'color': 'Hearts', 'value': 'Ace'},\n",
       " {'color': 'Hearts', 'value': 'King'},\n",
       " {'color': 'Hearts', 'value': 'Queen'},\n",
       " {'color': 'Hearts', 'value': 'Jack'},\n",
       " {'color': 'Hearts', 'value': 10},\n",
       " {'color': 'Hearts', 'value': 9},\n",
       " {'color': 'Hearts', 'value': 8},\n",
       " {'color': 'Hearts', 'value': 7},\n",
       " {'color': 'Diamonds', 'value': 'Ace'},\n",
       " {'color': 'Diamonds', 'value': 'King'},\n",
       " {'color': 'Diamonds', 'value': 'Queen'},\n",
       " {'color': 'Diamonds', 'value': 'Jack'},\n",
       " {'color': 'Diamonds', 'value': 10},\n",
       " {'color': 'Diamonds', 'value': 9},\n",
       " {'color': 'Diamonds', 'value': 8},\n",
       " {'color': 'Diamonds', 'value': 7},\n",
       " {'color': 'Clubs', 'value': 'Ace'},\n",
       " {'color': 'Clubs', 'value': 'King'},\n",
       " {'color': 'Clubs', 'value': 'Queen'},\n",
       " {'color': 'Clubs', 'value': 'Jack'},\n",
       " {'color': 'Clubs', 'value': 10},\n",
       " {'color': 'Clubs', 'value': 9},\n",
       " {'color': 'Clubs', 'value': 8},\n",
       " {'color': 'Clubs', 'value': 7},\n",
       " {'color': 'Spaids', 'value': 'Ace'},\n",
       " {'color': 'Spaids', 'value': 'King'},\n",
       " {'color': 'Spaids', 'value': 'Queen'},\n",
       " {'color': 'Spaids', 'value': 'Jack'},\n",
       " {'color': 'Spaids', 'value': 10},\n",
       " {'color': 'Spaids', 'value': 9},\n",
       " {'color': 'Spaids', 'value': 8},\n",
       " {'color': 'Spaids', 'value': 7}]"
      ]
     },
     "execution_count": 17,
     "metadata": {},
     "output_type": "execute_result"
    }
   ],
   "source": [
    "game.deck\n"
   ]
  },
  {
   "cell_type": "code",
   "execution_count": 18,
   "metadata": {},
   "outputs": [
    {
     "data": {
      "text/plain": [
       "[{'color': 'Hearts', 'value': 'Queen'},\n",
       " {'color': 'Clubs', 'value': 8},\n",
       " {'color': 'Spaids', 'value': 'King'}]"
      ]
     },
     "execution_count": 18,
     "metadata": {},
     "output_type": "execute_result"
    }
   ],
   "source": [
    "player1.hand"
   ]
  },
  {
   "cell_type": "code",
   "execution_count": 19,
   "metadata": {},
   "outputs": [
    {
     "data": {
      "text/plain": [
       "[{'color': 'Clubs', 'value': 'Ace'},\n",
       " {'color': 'Hearts', 'value': 7},\n",
       " {'color': 'Clubs', 'value': 'Jack'}]"
      ]
     },
     "execution_count": 19,
     "metadata": {},
     "output_type": "execute_result"
    }
   ],
   "source": [
    "dealer.hand"
   ]
  },
  {
   "cell_type": "code",
   "execution_count": 22,
   "metadata": {},
   "outputs": [
    {
     "data": {
      "text/plain": [
       "11"
      ]
     },
     "execution_count": 22,
     "metadata": {},
     "output_type": "execute_result"
    }
   ],
   "source": [
    "dealer.values_for_score()\n"
   ]
  },
  {
   "cell_type": "code",
   "execution_count": 23,
   "metadata": {},
   "outputs": [
    {
     "data": {
      "text/plain": [
       "10"
      ]
     },
     "execution_count": 23,
     "metadata": {},
     "output_type": "execute_result"
    }
   ],
   "source": [
    "player1.values_for_score()"
   ]
  },
  {
   "cell_type": "markdown",
   "metadata": {},
   "source": [
    "#### Fuction to find the cards on hand and calculate the score of each hand \n",
    "\n",
    "-first collecting all suits of the hand in a list colors\n",
    "\n",
    "-count the appearences of each suits\n",
    "\n",
    "-for the suit with 2 or more appearences return the values \n",
    "\n"
   ]
  },
  {
   "cell_type": "markdown",
   "metadata": {},
   "source": [
    "colors = []\n",
    "for card in dealer.hand:\n",
    "    colors.append(card['color'])"
   ]
  },
  {
   "cell_type": "markdown",
   "metadata": {},
   "source": [
    "occurencies = Counter(colors)"
   ]
  },
  {
   "cell_type": "markdown",
   "metadata": {},
   "source": [
    "for key, value in occurencies.items():\n",
    "    if value >= 2:\n",
    "        for x in dealer.hand:\n",
    "            if x['color'] == key:\n",
    "                print(x['value'])"
   ]
  },
  {
   "cell_type": "code",
   "execution_count": 32,
   "metadata": {},
   "outputs": [],
   "source": [
    "# THE FUNCTION\n",
    "\n",
    "def values_for_score():\n",
    "    colors = []\n",
    "    for card in self.hand:      # finding the most common suit on the hand \n",
    "        colors.append(card['color'])\n",
    "    occurencies = Counter(colors)     #counting the occurencies\n",
    "    for key, value in occurencies.items():\n",
    "        if value >= 2:\n",
    "            for x in self.hand:\n",
    "                if x['color'] == key:\n",
    "                    countable_cards = []\n",
    "                    countable_cards.append(x['value'])\n",
    "                    for item in countable_cards:\n",
    "                        count = 0\n",
    "                        count += scoring[item]\n",
    "                        return count \n",
    "        else:\n",
    "            for x in self.hand:\n",
    "                countable_cards.append(x['value'])\n",
    "                for item in countable_cards:\n",
    "                    cards_values = []\n",
    "                    cards_values.append(scoring[item])\n",
    "                    count = max(cards_values)\n",
    "                    return count "
   ]
  },
  {
   "cell_type": "markdown",
   "metadata": {},
   "source": []
  },
  {
   "cell_type": "code",
   "execution_count": 36,
   "metadata": {},
   "outputs": [
    {
     "data": {
      "text/plain": [
       "11"
      ]
     },
     "execution_count": 36,
     "metadata": {},
     "output_type": "execute_result"
    }
   ],
   "source": [
    "def values_for_score():\n",
    "    colors = []\n",
    "    for card in dealer.hand:      # finding the most common suit on the hand \n",
    "        colors.append(card['color'])\n",
    "    occurencies = Counter(colors)     #counting the occurencies\n",
    "    for key, value in occurencies.items():\n",
    "        if value >= 2:\n",
    "            for x in dealer.hand:\n",
    "                if x['color'] == key:\n",
    "                    countable_cards = []\n",
    "                    countable_cards.append(x['value'])\n",
    "                    for item in game.countable_cards:\n",
    "                        count = 0\n",
    "                        count += scoring[item]\n",
    "                        return count \n",
    "        else:\n",
    "            for x in dealer.hand:\n",
    "                countable_cards = []\n",
    "                countable_cards.append(x['value'])\n",
    "                for item in countable_cards:\n",
    "                    cards_values = []\n",
    "                    cards_values.append(game.scoring[item])\n",
    "                    count = max(cards_values)\n",
    "                    return count \n",
    "values_for_score()"
   ]
  },
  {
   "cell_type": "code",
   "execution_count": null,
   "metadata": {},
   "outputs": [],
   "source": []
  }
 ],
 "metadata": {
  "kernelspec": {
   "display_name": "Python 3",
   "language": "python",
   "name": "python3"
  },
  "language_info": {
   "codemirror_mode": {
    "name": "ipython",
    "version": 3
   },
   "file_extension": ".py",
   "mimetype": "text/x-python",
   "name": "python",
   "nbconvert_exporter": "python",
   "pygments_lexer": "ipython3",
   "version": "3.8.5"
  }
 },
 "nbformat": 4,
 "nbformat_minor": 4
}
