{
 "cells": [
  {
   "cell_type": "markdown",
   "metadata": {},
   "source": [
    "# Project 01 - The game \"Knack\"\n"
   ]
  },
  {
   "cell_type": "markdown",
   "metadata": {},
   "source": [
    "Knack (start with 2 players/ dealer and one player)\n",
    "\n",
    "\n",
    "Functions:\n",
    "\n",
    "- Pack in the middle is shown *\n",
    "- game loop : Choose action (swap 1, swap 3, shove, close) \n",
    "- Swap 1 *\n",
    "- Swap 3 *\n",
    "- Shove\n",
    "- Close\n",
    "\n",
    "- Counting at the end\n",
    "- Showing scores \n",
    "- Showing winner \n",
    "\n",
    "- End of game condition ?"
   ]
  },
  {
   "cell_type": "code",
   "execution_count": 1,
   "metadata": {},
   "outputs": [],
   "source": [
    "import random\n",
    "from IPython.display import clear_output\n",
    "from collections import Counter \n",
    "\n",
    "\n",
    "#deck = []\n",
    "#scoring = {\"Ace\": 11, \"King\": 10, \"Queen\": 10, \"Jack\": 10, 10 : 10, 9: 9, 8:8, 7:7}\n",
    "#suits = [\"Hearts\", \"Diamonds\", \"Clubs\", \"Spaids\"]\n",
    "#game class with functions ???   \n",
    "\n",
    "class Knack():    #game class\n",
    "    def __init__(self):\n",
    "        self.deck = []\n",
    "        self.suits = [\"Hearts\", \"Diamonds\", \"Clubs\", \"Spaids\"]\n",
    "        self.scoring = {\"Ace\": 11, \"King\": 10, \"Queen\": 10, \"Jack\": 10, 10 : 10, 9: 9, 8\n",
    "          :8, 7:7}\n",
    "        self.pack_middle = []\n",
    "        self.pack_middle2 = [] # just for parking the cards if player wants to swap all 3 cards \n",
    "                               # from his hand with the cards in the middle \n",
    "  \n",
    "    def makeDeck(self):   #method for creating the deck\n",
    "        for suit in self.suits:\n",
    "            for key in self.scoring.keys():\n",
    "                self.deck.append({'color':suit, 'value' : key} )\n",
    "    \n",
    "    def showMiddle(self):   #method that shows which cards are in the middle \n",
    "        print(\"\\nThese cards are in the middle: \\n\")\n",
    "        print(self.pack_middle)\n",
    "        \n",
    "    def takeCard_middle(self, card):     #taking 1 card to middle pack\n",
    "        self.pack_middle.append(card)\n",
    "        \n",
    "    def parkAll_Cards(self):          #taking all 3 cards from middle pack \n",
    "        for card in self.pack_middle:\n",
    "            self.pack_middle2.append(card)\n",
    "        self.pack_middle.clear()\n",
    "        \n",
    "\n",
    "\n",
    "#creating class and for two instances of the class (player and dealer) \n",
    "class players:\n",
    "    def __init__(self, name, is_dealer):\n",
    "        self.name = name \n",
    "        self.is_dealer = is_dealer\n",
    "        self.hand = []\n",
    "        self.score = {}\n",
    "        \n",
    "    def deal_players_pack(name):     #dealing 3 cards from the deck to the players hand\n",
    "        pack = random.sample(game.deck, 3)\n",
    "        player1.hand = pack\n",
    "        \n",
    "    def deal_dealers_packs(name):     # dealing 3 cards from the deck to the middle and 3 cards to dealers hand\n",
    "        pack1 = random.sample(game.deck, 3)\n",
    "        pack2 = random.sample(game.deck, 3)\n",
    "        dealer.hand = pack1\n",
    "        game.pack_middle = pack2\n",
    "        \n",
    "    def randomChoice(self, is_dealer = True): #dealer makes a random choice, to swap 1 card (random) or all cards\n",
    "        choices = [1, 3]                \n",
    "        dealers_choice =random.choice(choices)\n",
    "        if dealers_choice == 1:\n",
    "            game.takeCard_middle(self.hand.pop(random.randint(0,(len(self.hand)-1))))\n",
    "            self.takeCard_hand(game.pack_middle.pop(random.randint(0,(len(game.pack_middle) -1))))\n",
    "            print(f\"The dealer chooses to swap {dealers_choice} card. \\n\")\n",
    "        elif dealers_choice == 3:\n",
    "            game.parkAll_Cards()\n",
    "            self.giveAll_Cards()\n",
    "            self.takeAll_Cards()\n",
    "            print(f\"The dealer chooses to swap {dealers_choice} cards. \\n\")\n",
    "    \n",
    "    def showHand(self):   #method to show the players hand \n",
    "        print(\"This is your hand:\\n\")\n",
    "        print(self.hand)\n",
    "    \n",
    "    def giveCard(self):        #method to give one card of the players hand to the middle \n",
    "        card = input(\"Which of your cards would you like to swap? (Choose no. 1, 2, 3 or quit) \")\n",
    "        if card != \"quit\":\n",
    "            return self.hand.pop((int(card) - 1))\n",
    "        else:\n",
    "            pass\n",
    "        \n",
    "    def chooseCard(self):   #method to choose one card from the middle for the players hand\n",
    "        card = input(\"Which card would you choose from the middle? (Choose no. 1, 2, 3 or quit) \")\n",
    "        if card != \"quit\":\n",
    "            return game.pack_middle.pop((int(card) - 1))\n",
    "        else:\n",
    "            pass\n",
    "    \n",
    "    def takeCard_hand(self, card):    #taking/adding card to hand \n",
    "        self.hand.append(card)\n",
    "    \n",
    "    def giveAll_Cards(self):        #giving all cards from hand \n",
    "        for card in self.hand:\n",
    "            game.pack_middle.append(card)\n",
    "        self.hand.clear()\n",
    "            \n",
    "    def takeAll_Cards(self):       #taking all 3 cards from middle\n",
    "        for card in game.pack_middle2:\n",
    "            self.hand.append(card)\n",
    "        game.pack_middle2.clear()\n",
    "        \n",
    "    def values_for_score(self):\n",
    "        colors = []\n",
    "        cards_values = []\n",
    "        count = 0\n",
    "        for card in self.hand:      # finding the most common suit on the hand \n",
    "            colors.append(card['color'])\n",
    "            occurencies = Counter(colors)  #storing suits with occurencies \n",
    "            for key, value in occurencies.items():\n",
    "                        if value >= 2:\n",
    "                            for x in self.hand:\n",
    "                                if x['color'] == key:\n",
    "                                    countable_cards = []\n",
    "                                    countable_cards.append(x['value'])\n",
    "                                    for item in countable_cards:\n",
    "                                        count += game.scoring[item]\n",
    "                                        print(f\"This is {self.name}'s score: {count}\")      \n",
    "                        else:\n",
    "                            for x in self.hand:\n",
    "                                countable_cards = []\n",
    "                                countable_cards.append(x['value'])\n",
    "                                for item in countable_cards:\n",
    "                                    if item == 'Ace':\n",
    "                                        print(f\"This is {self.name}'s score: 11\")\n",
    "                                    else:\n",
    "                                        cards_values.append(game.scoring[item])\n",
    "                                        count = max(cards_values)\n",
    "                                        print(f\"This is {self.name}'s score: {count}\") \n",
    "\n",
    "                                        \n",
    "    #return list with scored cards\n",
    "    #calc score in extra method \n",
    "    #return each score \n",
    "    #check both scores "
   ]
  },
  {
   "cell_type": "code",
   "execution_count": 2,
   "metadata": {},
   "outputs": [],
   "source": [
    "game = Knack()\n",
    "game.makeDeck()\n",
    "name = input(\"What's your name? \")\n",
    "clear_output()\n",
    "player1 = players(name , is_dealer = False)\n",
    "dealer = players(\"Dealer\", is_dealer = True)\n",
    "\n",
    "dealer.deal_players_pack()  #dealing pack to player1 \n",
    "dealer.deal_dealers_packs() #dealing one pack to the dealer and one to the middle"
   ]
  },
  {
   "cell_type": "code",
   "execution_count": 3,
   "metadata": {},
   "outputs": [
    {
     "data": {
      "text/plain": [
       "[{'color': 'Hearts', 'value': 'Ace'},\n",
       " {'color': 'Hearts', 'value': 'King'},\n",
       " {'color': 'Hearts', 'value': 'Queen'},\n",
       " {'color': 'Hearts', 'value': 'Jack'},\n",
       " {'color': 'Hearts', 'value': 10},\n",
       " {'color': 'Hearts', 'value': 9},\n",
       " {'color': 'Hearts', 'value': 8},\n",
       " {'color': 'Hearts', 'value': 7},\n",
       " {'color': 'Diamonds', 'value': 'Ace'},\n",
       " {'color': 'Diamonds', 'value': 'King'},\n",
       " {'color': 'Diamonds', 'value': 'Queen'},\n",
       " {'color': 'Diamonds', 'value': 'Jack'},\n",
       " {'color': 'Diamonds', 'value': 10},\n",
       " {'color': 'Diamonds', 'value': 9},\n",
       " {'color': 'Diamonds', 'value': 8},\n",
       " {'color': 'Diamonds', 'value': 7},\n",
       " {'color': 'Clubs', 'value': 'Ace'},\n",
       " {'color': 'Clubs', 'value': 'King'},\n",
       " {'color': 'Clubs', 'value': 'Queen'},\n",
       " {'color': 'Clubs', 'value': 'Jack'},\n",
       " {'color': 'Clubs', 'value': 10},\n",
       " {'color': 'Clubs', 'value': 9},\n",
       " {'color': 'Clubs', 'value': 8},\n",
       " {'color': 'Clubs', 'value': 7},\n",
       " {'color': 'Spaids', 'value': 'Ace'},\n",
       " {'color': 'Spaids', 'value': 'King'},\n",
       " {'color': 'Spaids', 'value': 'Queen'},\n",
       " {'color': 'Spaids', 'value': 'Jack'},\n",
       " {'color': 'Spaids', 'value': 10},\n",
       " {'color': 'Spaids', 'value': 9},\n",
       " {'color': 'Spaids', 'value': 8},\n",
       " {'color': 'Spaids', 'value': 7}]"
      ]
     },
     "execution_count": 3,
     "metadata": {},
     "output_type": "execute_result"
    }
   ],
   "source": [
    "game.deck"
   ]
  },
  {
   "cell_type": "code",
   "execution_count": 4,
   "metadata": {},
   "outputs": [
    {
     "name": "stdout",
     "output_type": "stream",
     "text": [
      "This is your hand:\n",
      "\n",
      "[{'color': 'Diamonds', 'value': 7}, {'color': 'Clubs', 'value': 10}, {'color': 'Diamonds', 'value': 10}]\n",
      "==========\n",
      "Dealers turn\n",
      "The dealer chooses to swap 1 card. \n",
      "\n",
      "This is your hand:\n",
      "\n",
      "[{'color': 'Diamonds', 'value': 7}, {'color': 'Clubs', 'value': 10}, {'color': 'Diamonds', 'value': 10}]\n",
      "\n",
      "These cards are in the middle: \n",
      "\n",
      "[{'color': 'Spaids', 'value': 'Jack'}, {'color': 'Hearts', 'value': 7}, {'color': 'Hearts', 'value': 9}]\n",
      "What would you like to do? Swap, shove or close? close\n",
      "==========\n",
      "The dealers last turn:\n",
      "The dealer chooses to swap 3 cards. \n",
      "\n",
      "This is Ulli's score: 7\n",
      "This is Ulli's score: 10\n",
      "This is Ulli's score: 10\n",
      "This is Ulli's score: 10\n",
      "This is Ulli's score: 10\n",
      "This is Ulli's score: 10\n",
      "This is Ulli's score: 10\n",
      "This is Ulli's score: 10\n",
      "This is Ulli's score: 10\n",
      "This is Ulli's score: 17\n",
      "This is Ulli's score: 27\n",
      "This is Ulli's score: 10\n",
      "This is Ulli's score: 10\n",
      "This is Ulli's score: 10\n",
      "This is Dealer's score: 10\n",
      "This is Dealer's score: 10\n",
      "This is Dealer's score: 10\n",
      "This is Dealer's score: 10\n",
      "This is Dealer's score: 10\n",
      "This is Dealer's score: 10\n",
      "This is Dealer's score: 10\n",
      "This is Dealer's score: 10\n",
      "This is Dealer's score: 10\n",
      "This is Dealer's score: 10\n",
      "This is Dealer's score: 10\n",
      "This is Dealer's score: 10\n",
      "This is Dealer's score: 17\n",
      "This is Dealer's score: 26\n",
      "Thank you for playing!\n"
     ]
    }
   ],
   "source": [
    "playing = True      #setting variable for the game loop that runs while playing\n",
    "\n",
    "while playing:   \n",
    "    player1.showHand() # make method to show/print hand \n",
    "    game.showMiddle()   #show pack in the middle \n",
    "    \n",
    "    ans = input(\"What would you like to do? Swap, shove or close? \").lower()  #asking player what he wants to do\n",
    "    while ans != \"close\":     # close means player wants to finish the game with his current hand\n",
    "        \n",
    "        if ans == \"swap\":              # if player chooses to swap cards, ask if he wants to swap 1 or all cards (3)\n",
    "            choice_swap = int(input(\"Whould you like to swap one card ('1') or all cards ('3')? \"))\n",
    "            if choice_swap == (1):\n",
    "                            game.takeCard_middle(player1.giveCard())\n",
    "                            player1.takeCard_hand(player1.chooseCard())\n",
    "                            clear_output()\n",
    "                            player1.showHand()\n",
    "                            print(\"=\"*10)\n",
    "                            print(\"Dealers turn\")\n",
    "                            dealer.randomChoice()\n",
    "                            break\n",
    "\n",
    "            elif choice_swap == 3:\n",
    "                              game.parkAll_Cards()\n",
    "                              player1.giveAll_Cards()\n",
    "                              player1.takeAll_Cards()\n",
    "                              clear_output()\n",
    "                              player1.showHand()\n",
    "                              print(\"=\"*10)\n",
    "                              print(\"Dealers turn\")\n",
    "                              dealer.randomChoice()\n",
    "                              break\n",
    "\n",
    "            else:\n",
    "                              print(\"Sorry, I don't understand\")\n",
    "                              raise ValueError   \n",
    "        elif ans == \"shove\":\n",
    "            print(\"=\"*10)\n",
    "            print(\"Dealers turn\")\n",
    "            dealer.randomChoice()\n",
    "            break\n",
    "        \n",
    "        else:\n",
    "            playing = False               #stopping the game loop\n",
    "            print(\"Thank you for playing!\")\n",
    "            break\n",
    "            \n",
    "    else:     #close \n",
    "        print(\"=\"*10)\n",
    "        print(\"The dealers last turn:\")\n",
    "        dealer.randomChoice()\n",
    "        player1.values_for_score()\n",
    "        dealer.values_for_score()\n",
    "        playing = False\n",
    "        print(\"Thank you for playing!\")\n",
    "           \n",
    "    "
   ]
  },
  {
   "cell_type": "code",
   "execution_count": null,
   "metadata": {},
   "outputs": [],
   "source": []
  },
  {
   "cell_type": "code",
   "execution_count": 6,
   "metadata": {},
   "outputs": [
    {
     "ename": "IndentationError",
     "evalue": "unexpected indent (<ipython-input-6-0b994a006f16>, line 2)",
     "output_type": "error",
     "traceback": [
      "\u001b[0;36m  File \u001b[0;32m\"<ipython-input-6-0b994a006f16>\"\u001b[0;36m, line \u001b[0;32m2\u001b[0m\n\u001b[0;31m    colors = []\u001b[0m\n\u001b[0m    ^\u001b[0m\n\u001b[0;31mIndentationError\u001b[0m\u001b[0;31m:\u001b[0m unexpected indent\n"
     ]
    }
   ],
   "source": [
    "#def values_for_score():\n",
    "    colors = []\n",
    "    countable_cards = []\n",
    "    cards_values = []\n",
    "    count = 0\n",
    "    counter = 0\n",
    "    for card in player1.hand:      # finding the most common suit on the hand \n",
    "        colors.append(card['color'])\n",
    "        occurencies = Counter(colors)  #storing suits with occurencies \n",
    "        for key, value in occurencies.items():\n",
    "            if value >= 2:\n",
    "                for x in player1.hand:\n",
    "                    if x['color'] == key:\n",
    "                        countable_cards.append(x['value'])\n",
    "                        for item in countable_cards:\n",
    "                            count += game.scoring[item]\n",
    "                    return count      \n",
    "            else:\n",
    "                for x in player1.hand:\n",
    "                    countable_cards.append(x['value'])\n",
    "                    for item in countable_cards:\n",
    "                        if item == 'Ace':\n",
    "                            return 11\n",
    "                        else:\n",
    "                            cards_values.append(game.scoring[item])\n",
    "                            count = max(cards_values)\n",
    "                            return count\n",
    "                            \n",
    "values_for_score()"
   ]
  },
  {
   "cell_type": "code",
   "execution_count": 16,
   "metadata": {},
   "outputs": [],
   "source": [
    "colors = []\n",
    "countable_cards = []\n",
    "cards_values = []\n",
    "count = 0\n",
    "for card in player1.hand:      # finding the most common suit on the hand \n",
    "    colors.append(card['color'])\n",
    "    occurencies = Counter(colors)  #storing suits with occurencies \n",
    "    for key, value in occurencies.items():\n",
    "        if value >= 2:\n",
    "            for x in player1.hand:\n",
    "                if x['color'] == key:\n",
    "                    countable_cards.append(x['value'])\n",
    "                    for item in countable_cards:\n",
    "                        count += game.scoring[item]\n",
    "                        print(count)\n",
    "                   \n"
   ]
  },
  {
   "cell_type": "code",
   "execution_count": null,
   "metadata": {},
   "outputs": [],
   "source": [
    " \n",
    "                    print( count)      \n",
    "        else:\n",
    "            for x in player1.hand:\n",
    "                countable_cards.append(x['value'])\n",
    "                for item in countable_cards:\n",
    "                    if item == 'Ace':\n",
    "                        print(11)\n",
    "                    else:\n",
    "                        cards_values.append(game.scoring[item])\n",
    "                        count = max(cards_values)\n",
    "                        print(count)\n",
    "                            "
   ]
  },
  {
   "cell_type": "markdown",
   "metadata": {},
   "source": [
    "#### Fuction to find the cards on hand and calculate the score of each hand \n",
    "\n",
    "-first collecting all suits of the hand in a list colors\n",
    "\n",
    "-count the appearences of each suits\n",
    "\n",
    "-for the suit with 2 or more appearences return the values \n",
    "\n"
   ]
  },
  {
   "cell_type": "markdown",
   "metadata": {},
   "source": [
    "colors = []\n",
    "for card in dealer.hand:\n",
    "    colors.append(card['color'])"
   ]
  },
  {
   "cell_type": "markdown",
   "metadata": {},
   "source": [
    "occurencies = Counter(colors)"
   ]
  },
  {
   "cell_type": "markdown",
   "metadata": {},
   "source": [
    "for key, value in occurencies.items():\n",
    "    if value >= 2:\n",
    "        for x in dealer.hand:\n",
    "            if x['color'] == key:\n",
    "                print(x['value'])"
   ]
  },
  {
   "cell_type": "markdown",
   "metadata": {},
   "source": [
    "# THE FUNCTION\n",
    "\n",
    "def values_for_score(self):\n",
    "    colors = []\n",
    "    for card in self.hand:      # finding the most common suit on the hand \n",
    "        colors.append(card['color'])\n",
    "        occurencies = Counter(colors)     #counting the occurencies\n",
    "        for key, value in occurencies.items():\n",
    "            if value >= 2:\n",
    "                for x in self.hand:\n",
    "                    if x['color'] == key:\n",
    "                        countable_cards = []\n",
    "                        countable_cards.append(x['value'])\n",
    "                        for item in countable_cards:\n",
    "                            count = 0\n",
    "                            count += game.scoring[item]\n",
    "                            return count \n",
    "            else:\n",
    "                for x in self.hand:\n",
    "                    countable_cards = []\n",
    "                    countable_cards.append(x['value'])\n",
    "                    for item in countable_cards:\n",
    "                        if item == 'Ace':\n",
    "                            return 11\n",
    "                        else:\n",
    "                            cards_values = []\n",
    "                            cards_values.append(game.scoring[item])\n",
    "                            count = max(cards_values)\n",
    "                            return count"
   ]
  },
  {
   "cell_type": "markdown",
   "metadata": {},
   "source": [
    "#### Function for swapping a card"
   ]
  },
  {
   "cell_type": "code",
   "execution_count": 11,
   "metadata": {},
   "outputs": [
    {
     "name": "stdout",
     "output_type": "stream",
     "text": [
      "These cards are in the middle: \n",
      "\n",
      "[{'color': 'Diamonds', 'value': 10}, {'color': 'Clubs', 'value': 10}, {'color': 'Diamonds', 'value': 7}]\n"
     ]
    }
   ],
   "source": [
    "game.showMiddle()"
   ]
  },
  {
   "cell_type": "code",
   "execution_count": 12,
   "metadata": {},
   "outputs": [
    {
     "data": {
      "text/plain": [
       "[{'color': 'Clubs', 'value': 7},\n",
       " {'color': 'Clubs', 'value': 10},\n",
       " {'color': 'Hearts', 'value': 9}]"
      ]
     },
     "execution_count": 12,
     "metadata": {},
     "output_type": "execute_result"
    }
   ],
   "source": [
    "player1.hand"
   ]
  },
  {
   "cell_type": "code",
   "execution_count": 16,
   "metadata": {},
   "outputs": [],
   "source": [
    "def swapCard():\n",
    "    card = input(\"Which card would you like to swap? (Choose no. 1, 2 or 3) \")\n",
    "    if card != \"quit\":\n",
    "        return player1.hand.pop(int(card))\n",
    "    else:\n",
    "        pass \n",
    "\n",
    "            "
   ]
  },
  {
   "cell_type": "code",
   "execution_count": 17,
   "metadata": {},
   "outputs": [
    {
     "name": "stdout",
     "output_type": "stream",
     "text": [
      "Which card would you like to swap? (Choose no. 1, 2 or 3) 1\n"
     ]
    },
    {
     "data": {
      "text/plain": [
       "{'color': 'Hearts', 'value': 9}"
      ]
     },
     "execution_count": 17,
     "metadata": {},
     "output_type": "execute_result"
    }
   ],
   "source": [
    "swapCard()"
   ]
  },
  {
   "cell_type": "code",
   "execution_count": 18,
   "metadata": {},
   "outputs": [],
   "source": [
    "def takeCard(card):\n",
    "    game.pack_middle.append(card)"
   ]
  },
  {
   "cell_type": "code",
   "execution_count": 19,
   "metadata": {},
   "outputs": [],
   "source": [
    "takeCard({'color': 'Hearts', 'value': 9})"
   ]
  },
  {
   "cell_type": "code",
   "execution_count": 20,
   "metadata": {},
   "outputs": [
    {
     "name": "stdout",
     "output_type": "stream",
     "text": [
      "These cards are in the middle: \n",
      "\n",
      "[{'color': 'Diamonds', 'value': 10}, {'color': 'Clubs', 'value': 10}, {'color': 'Diamonds', 'value': 7}, {'color': 'Hearts', 'value': 9}]\n"
     ]
    }
   ],
   "source": [
    "game.showMiddle()"
   ]
  },
  {
   "cell_type": "code",
   "execution_count": 23,
   "metadata": {},
   "outputs": [],
   "source": [
    "def chooseCard():\n",
    "    card = input(\"Which card would you choose from the middle? (Choose no. 1, 2 or 3) \")\n",
    "    if card != \"quit\":\n",
    "        return game.pack_middle.pop(int(card))\n",
    "    else:\n",
    "        pass"
   ]
  },
  {
   "cell_type": "code",
   "execution_count": 24,
   "metadata": {},
   "outputs": [
    {
     "name": "stdout",
     "output_type": "stream",
     "text": [
      "Which card would you choose from the middle? (Choose no. 1, 2 or 3) 0\n"
     ]
    },
    {
     "data": {
      "text/plain": [
       "{'color': 'Diamonds', 'value': 10}"
      ]
     },
     "execution_count": 24,
     "metadata": {},
     "output_type": "execute_result"
    }
   ],
   "source": [
    "chooseCard()"
   ]
  },
  {
   "cell_type": "code",
   "execution_count": 25,
   "metadata": {},
   "outputs": [],
   "source": [
    "def takeCard_hand( card):\n",
    "        player1.hand.append(card)"
   ]
  },
  {
   "cell_type": "code",
   "execution_count": 26,
   "metadata": {},
   "outputs": [],
   "source": [
    "takeCard_hand({'color': 'Diamonds', 'value': 10})"
   ]
  },
  {
   "cell_type": "code",
   "execution_count": 28,
   "metadata": {},
   "outputs": [
    {
     "data": {
      "text/plain": [
       "[{'color': 'Clubs', 'value': 7}, {'color': 'Diamonds', 'value': 10}]"
      ]
     },
     "execution_count": 28,
     "metadata": {},
     "output_type": "execute_result"
    }
   ],
   "source": [
    "player1.hand\n",
    "\n"
   ]
  },
  {
   "cell_type": "code",
   "execution_count": 17,
   "metadata": {},
   "outputs": [
    {
     "data": {
      "text/plain": [
       "[{'color': 'Clubs', 'value': 8},\n",
       " {'color': 'Hearts', 'value': 'Jack'},\n",
       " {'color': 'Diamonds', 'value': 10}]"
      ]
     },
     "execution_count": 17,
     "metadata": {},
     "output_type": "execute_result"
    }
   ],
   "source": [
    "dealer.hand"
   ]
  },
  {
   "cell_type": "code",
   "execution_count": null,
   "metadata": {},
   "outputs": [],
   "source": []
  }
 ],
 "metadata": {
  "kernelspec": {
   "display_name": "Python 3",
   "language": "python",
   "name": "python3"
  },
  "language_info": {
   "codemirror_mode": {
    "name": "ipython",
    "version": 3
   },
   "file_extension": ".py",
   "mimetype": "text/x-python",
   "name": "python",
   "nbconvert_exporter": "python",
   "pygments_lexer": "ipython3",
   "version": "3.8.5"
  }
 },
 "nbformat": 4,
 "nbformat_minor": 4
}
